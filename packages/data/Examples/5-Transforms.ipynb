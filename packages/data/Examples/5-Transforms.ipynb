{
 "cells": [
  {
   "cell_type": "markdown",
   "id": "7bea8d37-f85d-4114-a079-4fc4d7c5ebee",
   "metadata": {},
   "source": [
    "## Imports"
   ]
  },
  {
   "cell_type": "code",
   "execution_count": 1,
   "id": "8e51087f-1e99-4c52-9d8e-dbc954a45a6c",
   "metadata": {},
   "outputs": [
    {
     "ename": "ModuleNotFoundError",
     "evalue": "No module named 'edit'",
     "output_type": "error",
     "traceback": [
      "\u001b[0;31m---------------------------------------------------------------------------\u001b[0m",
      "\u001b[0;31mModuleNotFoundError\u001b[0m                       Traceback (most recent call last)",
      "Cell \u001b[0;32mIn[1], line 1\u001b[0m\n\u001b[0;32m----> 1\u001b[0m \u001b[38;5;28;01mimport\u001b[39;00m \u001b[38;5;21;01medit\u001b[39;00m\u001b[38;5;21;01m.\u001b[39;00m\u001b[38;5;21;01mdata\u001b[39;00m\n",
      "\u001b[0;31mModuleNotFoundError\u001b[0m: No module named 'edit'"
     ]
    }
   ],
   "source": [
    "import pyearthtools.data"
   ]
  },
  {
   "cell_type": "markdown",
   "id": "1955c81c-b582-40ee-8193-49a47c06ea33",
   "metadata": {},
   "source": [
    "## Variables"
   ]
  },
  {
   "cell_type": "code",
   "execution_count": 9,
   "id": "9af8e969-7a6e-49e0-8fe4-b76d6ffa0d36",
   "metadata": {
    "tags": []
   },
   "outputs": [],
   "source": [
    "doi = '2022-01-01T0000'\n",
    "var = '2t'"
   ]
  },
  {
   "cell_type": "markdown",
   "id": "8cc26cf3-c51e-40c9-95f2-6fb6ea84fb39",
   "metadata": {
    "tags": []
   },
   "source": [
    "# Transforms\n",
    "`edit.data` provides an interface to apply transformations to any dataset at the time of loading. Commonly used transformations, like region cutting, masking, filtering, interpolation and more can be found at `edit.data.transforms`.\n",
    "\n",
    "However, it is also possible for a user to define their own transform to apply."
   ]
  },
  {
   "cell_type": "markdown",
   "id": "dc940fb2-d752-4b93-82c0-6d29fd3db7f7",
   "metadata": {},
   "source": [
    "### Default Transforms\n",
    "All inbuilt DataIndexes use these transforms to force data into a standard format and for their own individual filtering's.\n",
    "\n",
    "ERA5's base_transforms are shown below,"
   ]
  },
  {
   "cell_type": "code",
   "execution_count": 4,
   "id": "592abf33-26ba-49b0-a080-2d4ab29893f7",
   "metadata": {
    "tags": []
   },
   "outputs": [
    {
     "data": {
      "text/plain": [
       "Transform Collection:\n",
       "   ConformNaming                 Force Standard Dimension Names\n",
       "   StandardCoordinates           Force Coordinates to have common design\n",
       "   SetType                       Set variables to consistent type. Skip if TypeError\n",
       "   NameDeviation                 Rename variables in Dataset\n",
       "   VariableTrim                  Trim Dataset to given variables"
      ]
     },
     "execution_count": 4,
     "metadata": {},
     "output_type": "execute_result"
    }
   ],
   "source": [
    "pyearthtoolsrthtoolsrthtoolsrthtoolsrthtools.data.archive.ERA5(var, level = 'single').base_transforms"
   ]
  },
  {
   "cell_type": "markdown",
   "id": "9b952188-6161-48c4-9ffd-fd9635b9ed2e",
   "metadata": {
    "tags": []
   },
   "source": [
    "### Using prebuilt Transforms\n",
    "`6-RegionCutting.ipynb` shows how to use a prebuilt Transform for cutting a dataset to a region of interest.\n"
   ]
  },
  {
   "cell_type": "markdown",
   "id": "87f168ed-0dd5-44c1-a707-5c9c8dc6d2a5",
   "metadata": {
    "tags": []
   },
   "source": [
    "### Defining Your Own Transform\n",
    "As different project or use cases may require different Transforms to be applied to the data, there a couple of ways to define and use a custom Transform."
   ]
  },
  {
   "cell_type": "markdown",
   "id": "c01b6310-9aad-4328-9552-07183a866a20",
   "metadata": {
    "tags": []
   },
   "source": [
    "#### Function\n",
    "The first & easiest way is to pass a function to the transform argument, either in DataIndex initialisation or retrieval call. \n",
    "This function will automatically be wrapped with a FunctionTransform and added to the TransformCollection.\n",
    "\n",
    "This function must have the signature:\n",
    "```python\n",
    "def function(dataset) -> type(dataset)\n",
    "```"
   ]
  },
  {
   "cell_type": "code",
   "execution_count": 7,
   "id": "1a988aff-dbb0-4c5e-9c8c-6e412d00af71",
   "metadata": {
    "tags": []
   },
   "outputs": [],
   "source": [
    "def custom_transform(dataset):\n",
    "    \"\"\"This applies a custom Transform to mark the dataset\"\"\"\n",
    "    dataset.attrs['Transform Mark'] = True\n",
    "    return dataset"
   ]
  },
  {
   "cell_type": "markdown",
   "id": "f18144b8-6e54-447d-9687-c4ce226a7adb",
   "metadata": {},
   "source": [
    "First, lets add it is a base_transform, to be applied to any data retrieval call using that DataIndex"
   ]
  },
  {
   "cell_type": "code",
   "execution_count": 8,
   "id": "e766fda3-0aa5-4b9e-8d92-512edc0a209d",
   "metadata": {
    "tags": []
   },
   "outputs": [
    {
     "data": {
      "text/plain": [
       "Transform Collection:\n",
       "   ConformNaming                 Force Standard Dimension Names\n",
       "   StandardCoordinates           Force Coordinates to have common design\n",
       "   SetType                       Set variables to consistent type. Skip if TypeError\n",
       "   NameDeviation                 Rename variables in Dataset\n",
       "   VariableTrim                  Trim Dataset to given variables\n",
       "   FunctionTransform             Implementing: custom_transform: This applies a custom Transform to mark the dataset"
      ]
     },
     "execution_count": 8,
     "metadata": {},
     "output_type": "execute_result"
    }
   ],
   "source": [
    "pyearthtoolsrthtoolsrthtoolsrthtoolsrthtools.data.archive.ERA5(var, level = 'single', transforms = custom_transform).base_transforms"
   ]
  },
  {
   "cell_type": "markdown",
   "id": "cf8d3ca2-68b5-4d10-a382-b0eadbd30be8",
   "metadata": {},
   "source": [
    "Then, lets just pass it as a Transform to that one data retrieval call"
   ]
  },
  {
   "cell_type": "code",
   "execution_count": 11,
   "id": "a1745171-dcd9-4199-9ace-68c74d15c39d",
   "metadata": {
    "tags": []
   },
   "outputs": [
    {
     "data": {
      "text/plain": [
       "{'Transform Mark': True}"
      ]
     },
     "execution_count": 11,
     "metadata": {},
     "output_type": "execute_result"
    }
   ],
   "source": [
    "pyearthtoolsrthtoolsrthtoolsrthtoolsrthtools.data.archive.ERA5(var, level = 'single')(doi, transforms = custom_transform).attrs"
   ]
  },
  {
   "cell_type": "markdown",
   "id": "416de7b5-8cd7-4abe-8f58-25ee4a2d6f3f",
   "metadata": {},
   "source": [
    "#### Transform Class\n",
    "For more complex Transforms, the Transform Class can be implemented.\n",
    "\n",
    "A user must implement the `.apply(dataset)` function, and must have the same signature as above: \n",
    "```python\n",
    "def apply(dataset) -> type(dataset)\n",
    "```\n",
    "It is also important to note, that these Transforms can be used independently just like a function."
   ]
  },
  {
   "cell_type": "code",
   "execution_count": 12,
   "id": "151cb8a3-ca0e-4b53-9aab-c922c20ce7f5",
   "metadata": {
    "tags": []
   },
   "outputs": [],
   "source": [
    "class CustomTransform(pyearthtoolsrthtoolsrthtoolsrthtoolsrthtools.data.transform.Transform):\n",
    "    \"\"\"Custom Transform Class to mark the dataset\"\"\"\n",
    "    def __init__(self, value):\n",
    "        self.value = value\n",
    "    def apply(self, dataset):\n",
    "        dataset.attrs['Transform Mark'] = self.value\n",
    "        return dataset"
   ]
  },
  {
   "cell_type": "markdown",
   "id": "3530dc64-245d-45e8-bf51-60c0266423ec",
   "metadata": {},
   "source": [
    "##### Using the CustomTransform"
   ]
  },
  {
   "cell_type": "code",
   "execution_count": 13,
   "id": "291d059a-baa1-49ba-8570-89db89f201a6",
   "metadata": {
    "tags": []
   },
   "outputs": [
    {
     "data": {
      "text/plain": [
       "Transform Collection:\n",
       "   ConformNaming                 Force Standard Dimension Names\n",
       "   StandardCoordinates           Force Coordinates to have common design\n",
       "   SetType                       Set variables to consistent type. Skip if TypeError\n",
       "   NameDeviation                 Rename variables in Dataset\n",
       "   VariableTrim                  Trim Dataset to given variables\n",
       "   CustomTransform               Custom Transform Class to mark the dataset"
      ]
     },
     "execution_count": 13,
     "metadata": {},
     "output_type": "execute_result"
    }
   ],
   "source": [
    "pyearthtoolsrthtoolsrthtoolsrthtoolsrthtools.data.archive.ERA5(var, level = 'single', transforms = CustomTransform('Wow')).base_transforms"
   ]
  },
  {
   "cell_type": "code",
   "execution_count": 14,
   "id": "069d639f-3b99-41e4-8471-fb739d5f5efa",
   "metadata": {
    "tags": []
   },
   "outputs": [
    {
     "data": {
      "text/plain": [
       "{'Transform Mark': 'Wow'}"
      ]
     },
     "execution_count": 14,
     "metadata": {},
     "output_type": "execute_result"
    }
   ],
   "source": [
    "pyearthtoolsrthtoolsrthtoolsrthtoolsrthtools.data.archive.ERA5(var, level = 'single')(doi, transforms = CustomTransform('Wow')).attrs"
   ]
  },
  {
   "cell_type": "code",
   "execution_count": 15,
   "id": "6ac5bfb1-41ba-4364-8f2c-ce7ad586fddb",
   "metadata": {
    "tags": []
   },
   "outputs": [
    {
     "data": {
      "text/plain": [
       "{'Transform Mark': 'Wow'}"
      ]
     },
     "execution_count": 15,
     "metadata": {},
     "output_type": "execute_result"
    }
   ],
   "source": [
    "CustomTransform('Wow')(pyearthtoolsrthtoolsrthtoolsrthtoolsrthtools.data.archive.ERA5(var, level = 'single')(doi)).attrs"
   ]
  },
  {
   "cell_type": "markdown",
   "id": "99d8615d-2aad-4991-9180-7a0e9cd13283",
   "metadata": {},
   "source": [
    "# Transform Collections\n",
    "To apply multiple Transforms, a TransformCollection can be made.\n",
    "\n",
    "Adding any function or Transform to a Transform will automatically create a new TransformCollection.\n",
    "\n",
    "When calling this Collection, each Transform is applied in order. This Collection also implements many of the common list functions, such as `pop`, `remove` & `append`"
   ]
  },
  {
   "cell_type": "code",
   "execution_count": 18,
   "id": "94a4f7a9-7368-484c-933c-17cc301645b0",
   "metadata": {
    "tags": []
   },
   "outputs": [
    {
     "data": {
      "text/plain": [
       "Transform Collection:\n",
       "   CustomTransform               Custom Transform Class to mark the dataset\n",
       "   CustomTransform               Custom Transform Class to mark the dataset"
      ]
     },
     "execution_count": 18,
     "metadata": {},
     "output_type": "execute_result"
    }
   ],
   "source": [
    "collection = CustomTransform('Wow') + CustomTransform('Wow_2')\n",
    "collection"
   ]
  },
  {
   "cell_type": "code",
   "execution_count": 19,
   "id": "d172bf88-4d4c-4d37-817e-a6f467884dd5",
   "metadata": {
    "tags": []
   },
   "outputs": [
    {
     "data": {
      "text/plain": [
       "Transform:\n",
       "   CustomTransform               Custom Transform Class to mark the dataset"
      ]
     },
     "execution_count": 19,
     "metadata": {},
     "output_type": "execute_result"
    }
   ],
   "source": [
    "collection.pop()"
   ]
  },
  {
   "cell_type": "code",
   "execution_count": 20,
   "id": "edd6f8a2-8266-41be-8aef-96de0d7fdc33",
   "metadata": {
    "tags": []
   },
   "outputs": [
    {
     "data": {
      "text/plain": [
       "Transform Collection:\n",
       "   CustomTransform               Custom Transform Class to mark the dataset"
      ]
     },
     "execution_count": 20,
     "metadata": {},
     "output_type": "execute_result"
    }
   ],
   "source": [
    "collection"
   ]
  },
  {
   "cell_type": "code",
   "execution_count": null,
   "id": "b7c00177-1be9-41bc-8822-dc9604270561",
   "metadata": {},
   "outputs": [],
   "source": []
  }
 ],
 "metadata": {
  "kernelspec": {
   "display_name": "Python 3 (ipykernel)",
   "language": "python",
   "name": "python3"
  },
  "language_info": {
   "codemirror_mode": {
    "name": "ipython",
    "version": 3
   },
   "file_extension": ".py",
   "mimetype": "text/x-python",
   "name": "python",
   "nbconvert_exporter": "python",
   "pygments_lexer": "ipython3",
   "version": "3.11.0"
  }
 },
 "nbformat": 4,
 "nbformat_minor": 5
}
