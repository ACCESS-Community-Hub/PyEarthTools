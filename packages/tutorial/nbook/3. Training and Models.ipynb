{
 "cells": [
  {
   "cell_type": "code",
   "execution_count": 1,
   "id": "0d2b6c0e-5e4d-4771-811c-2a757e934f13",
   "metadata": {},
   "outputs": [
    {
     "name": "stderr",
     "output_type": "stream",
     "text": [
      "/g/data/kd24/tjl/src/EDIT/packages/data/src/edit/data/__init__.py:142: FutureWarning: `edit` is under heavy development and may not continue to be supported.\n",
      "  __python_warnings.warn(\n"
     ]
    }
   ],
   "source": [
    "import edit.data\n",
    "import era5lowres\n",
    "import edit.training"
   ]
  },
  {
   "cell_type": "code",
   "execution_count": 2,
   "id": "69e0b8cd-f09c-48d0-a942-fb0b8363f50b",
   "metadata": {},
   "outputs": [],
   "source": [
    "import edit.data"
   ]
  },
  {
   "cell_type": "code",
   "execution_count": 3,
   "id": "315e3945-261d-40ac-ade0-34bbb68e14e8",
   "metadata": {},
   "outputs": [],
   "source": [
    "import edit.data.indexes"
   ]
  },
  {
   "cell_type": "code",
   "execution_count": 4,
   "id": "4c8cc0da-0b48-48d7-bcb4-0573939e5962",
   "metadata": {},
   "outputs": [
    {
     "data": {
      "text/plain": [
       "edit.data.indexes.cacheIndex.BaseCacheIndex"
      ]
     },
     "execution_count": 4,
     "metadata": {},
     "output_type": "execute_result"
    }
   ],
   "source": [
    "edit.data.indexes.cacheIndex.BaseCacheIndex"
   ]
  },
  {
   "cell_type": "code",
   "execution_count": null,
   "id": "ff814774-4171-498e-aa56-ed4c001b60a9",
   "metadata": {},
   "outputs": [],
   "source": []
  }
 ],
 "metadata": {
  "kernelspec": {
   "display_name": "Python 3 (ipykernel)",
   "language": "python",
   "name": "python3"
  },
  "language_info": {
   "codemirror_mode": {
    "name": "ipython",
    "version": 3
   },
   "file_extension": ".py",
   "mimetype": "text/x-python",
   "name": "python",
   "nbconvert_exporter": "python",
   "pygments_lexer": "ipython3",
   "version": "3.11.10"
  }
 },
 "nbformat": 4,
 "nbformat_minor": 5
}
